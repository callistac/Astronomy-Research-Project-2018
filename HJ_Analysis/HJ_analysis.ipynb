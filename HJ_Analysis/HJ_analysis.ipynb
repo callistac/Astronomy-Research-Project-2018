{
 "cells": [
  {
   "cell_type": "markdown",
   "metadata": {},
   "source": [
    "# Hot Jupiter Analysis\n",
    "\n",
    "__If you make use of this code, please cite Christ, C. N., Montet, B. T., & Fabrycky, D. C. 2018, arXiv:1810.02826__\n",
    "\n",
    "The following code analyzes whether or not TESS will be able to detect tidal orbital decay in hot Jupiter systems and what tidal parameter quality factor each system must have in order to make tidal orbital decay detectable, thus (possibly) allowing us to estimate the interior structure of the central stars"
   ]
  },
  {
   "cell_type": "code",
   "execution_count": 1,
   "metadata": {},
   "outputs": [],
   "source": [
    "import numpy as np\n",
    "import matplotlib.pyplot as plt\n",
    "import pandas as pd\n",
    "import batman \n",
    "from scipy.interpolate import interp1d"
   ]
  },
  {
   "cell_type": "code",
   "execution_count": null,
   "metadata": {},
   "outputs": [],
   "source": [
    "#reading in dataframe from TESS sensitivity analysis (table of detectable planets in 2 sectors)\n",
    "df_prob2 = pd.read_csv('prob_of_detection_camp2.csv')\n",
    "df_prob_small = df_prob2[df_prob2['koi_prad']<=30]\n",
    "#print(df_prob2)\n",
    "#print(df_prob_small)"
   ]
  },
  {
   "cell_type": "code",
   "execution_count": 4,
   "metadata": {},
   "outputs": [],
   "source": [
    "#calculating transit time in July with a constant period model\n",
    "#using error propagation to figure out the Kepler errors in July\n",
    "dict_july_transits = {}\n",
    "for index, row in df_prob2.iterrows():\n",
    "    period = row['koi_period']\n",
    "    perioderr1 = row['koi_period_err1']\n",
    "    first_epoch_time = row['koi_time0bk']\n",
    "    \n",
    "    #July 15th, 2019 - Jan 1st, 2009 (units BKJD- days from Jan 1st 2009)\n",
    "    T0 = 2458679.5 - 2454833.0 \n",
    "    T0_err1 = row['koi_time0bk_err1']\n",
    "    \n",
    "    #getting counts for how many epochs have occured from initial epoch to July 15th, 2019\n",
    "    k=1\n",
    "    while ((first_epoch_time + period*k) <= T0):\n",
    "        k+=1\n",
    "    E = k-1\n",
    "    \n",
    "    #finding transit uncertainty with kepler\n",
    "    C = first_epoch_time + period*E  \n",
    "    delta_C = np.sqrt(T0_err1**2 + (perioderr1*E)**2)\n",
    "    delta_C *= 1440\n",
    "    \n",
    "    df_prob2.at[index, 'Transit_uncert'] = delta_C #in minutes\n",
    "    df_prob2.at[index, 'Constant_period_transit_time'] = C\n",
    "    df_prob2.at[index, 'Epoch_num_july19'] = E\n",
    "    dict_july_transits[row['kepoi_name']] = delta_C "
   ]
  },
  {
   "cell_type": "code",
   "execution_count": null,
   "metadata": {},
   "outputs": [],
   "source": [
    "df_transit_uncert = pd.DataFrame.from_dict(dict_july_transits, orient='index')\n",
    "#print(df_transit_uncert.isnull().sum())  #counting number of nan values for transit uncert"
   ]
  },
  {
   "cell_type": "code",
   "execution_count": 6,
   "metadata": {},
   "outputs": [],
   "source": [
    "#looking at orbital decay for all of these detectable planets using eqn from Patra et al.'s 2017 paper\n",
    "dict_change_in_p = {}\n",
    "for index, row in df_prob2.iterrows():\n",
    "    radius = row['koi_prad']                        #in radius of earth\n",
    "    semi_axis_srad = row['koi_sma']*214.93946938362 #now in solar radii\n",
    "    mass_star = row['koi_smass']\n",
    "    mass_star_earthm = mass_star*334672.021419      #now in earth masses\n",
    "    change_p_lst = []\n",
    "    \n",
    "    #trying different typical Q_star values\n",
    "    for i in range(3, 8):\n",
    "        if (radius >= 8.0):  \n",
    "            #treat as a jupiter sized mass \n",
    "            #317.8 is mass of jupiter in earth masses\n",
    "            change_p = (-27*np.pi) / (2*(float(1*10**i))) * (317.8 / mass_star_earthm)*(row['koi_srad'] / semi_axis_srad)**5\n",
    "            change_p_lst.append(change_p)\n",
    "        else:\n",
    "            #M_planet = (radius / 1)**(2.06)  #this is when we used mass radius relationship to calculate mass\n",
    "            change_p = (-27*np.pi) / (2*(float(1*10**i))) * (317.8 / mass_star_earthm)*(row['koi_srad'] / semi_axis_srad)**5\n",
    "            change_p_lst.append(change_p)\n",
    "            \n",
    "    df_prob2.at[index, 'change_p'] = change_p_lst[0]\n",
    "    dict_change_in_p[row['kepoi_name']] = change_p_lst       "
   ]
  },
  {
   "cell_type": "code",
   "execution_count": 7,
   "metadata": {},
   "outputs": [],
   "source": [
    "df_change_p = pd.DataFrame.from_dict(dict_change_in_p, orient='index')"
   ]
  },
  {
   "cell_type": "code",
   "execution_count": 8,
   "metadata": {},
   "outputs": [],
   "source": [
    "#calculating times of transit based on an orbital decay model in July 2019\n",
    "for index, row in df_prob2.iterrows():\n",
    "    C_transits = row['Constant_period_transit_time']\n",
    "    T0 = row['koi_time0bk']                           #initial time of transit (days after Jan 1st)\n",
    "    period = row['koi_period']\n",
    "    change_p = row['change_p']\n",
    "    N = row['Epoch_num_july19']                       #N is number of transits after inital transit in July 2019\n",
    "    Tn = T0 + N*period + 0.5*(N**2)*change_p*period   #(chance_p*period = change in period in one orbit)\n",
    "    df_prob2.at[index, 'decay_transit_in_july19'] = Tn\n",
    "    df_prob2.at[index, 'Transit_difference'] = (C_transits - Tn)*1440"
   ]
  },
  {
   "cell_type": "code",
   "execution_count": null,
   "metadata": {},
   "outputs": [],
   "source": [
    "#removing some planets that were falsely labelled \n",
    "df_prob2 = df_prob2[df_prob2['kepoi_name'] != 'K05129.01']\n",
    "df_prob2 = df_prob2[df_prob2['kepoi_name'] != 'K05157.01'] \n",
    "testing_vals = ['K00002.01', 'K00013.01', 'K01075.01', 'K03156.01', 'K05220.01', 'K05353.01', 'K07259.01']\n",
    "df_prob2 = df_prob2[(df_prob2['kepoi_name']).isin(testing_vals)]\n",
    "plt.hist(df_prob2['Transit_difference'], np.arange(1, 100, 1))\n",
    "plt.show()\n",
    "\n",
    "'''\n",
    "df_prob9 = df_prob2[df_prob2['kepoi_name'] == 'K00977.01']  #bad\n",
    "#print(df_prob2)\n",
    "df_prob9 = df_prob2[df_prob2['kepoi_name'] == 'K07430.01']  #good\n",
    "print(df_prob9)\n",
    "#df_prob2 = df_prob2[df_prob2['kepoi_name'] != 'K00971.01'] #bad\n",
    "#df_prob2 = df_prob2[df_prob2['kepoi_name'] != 'K01140.01']\n",
    "#df_prob2 = df_prob2[df_prob2['kepoi_name'] != 'K05220.01'] #keep\n",
    "#df_prob2 = df_prob2[df_prob2['kepoi_name'] != 'K07791.01']\n",
    "#df_prob2 = df_prob2[df_prob2['kepoi_name'] != 'K07791.01']\n",
    "#df_prob2 = df_prob2[df_prob2['kepoi_name'] != 'K07100.01']\n",
    "#df_prob2 = df_prob2[df_prob2['kepoi_name'] != 'K05157.01'] #toss this one\n",
    "\n",
    "outliers = df_prob2[df_prob2['Transit_difference'] >= 2000]\n",
    "'''"
   ]
  },
  {
   "cell_type": "code",
   "execution_count": 13,
   "metadata": {},
   "outputs": [],
   "source": [
    "#finding the tess uncertainty the same way as in the batman lightcurve notebook\n",
    "for index, row in df_prob2.iterrows():\n",
    "    M_star = row['koi_smass']\n",
    "    Period = row['koi_period']\n",
    "    a_axis_au = row['koi_sma']\n",
    "    radius_p = row['koi_prad']\n",
    "    radius_s = row['koi_srad']\n",
    "    \n",
    "    a_axis_stellar_r = a_axis_au*214.93946938362 / radius_s\n",
    "    bat_params = batman.TransitParams()\n",
    "    bat_params.t0 = 0.\n",
    "    bat_params.per = Period\n",
    "    bat_params.rp = radius_p / 109.489447246618 / radius_s    #planet radius (in units of stellar radii), converting from R_earth to R_star\n",
    "    bat_params.a = a_axis_stellar_r                           #semi-major axis (in units of stellar radii)\n",
    "    bat_params.inc = 90 #row['koi_incl']\n",
    "    bat_params.ecc = row['koi_eccen']\n",
    "    bat_params.w = 90 #row['koi_longp']                       #longitude of periastron (in degrees)\n",
    "    bat_params.u = [0.2075, 0.3785]\n",
    "    bat_params.limb_dark = \"quadratic\"\n",
    "    \n",
    "    num_transits = int(30.0 / Period)\n",
    "    if (num_transits == 0):\n",
    "        two_min_x = np.arange(-Period/2, Period/2, 0.00138889)\n",
    "    else:\n",
    "        two_min_x = np.arange(-Period/2, Period/2, 0.00138889/num_transits)\n",
    "        \n",
    "        \n",
    "    #initalizing batman model    \n",
    "    b_model = batman.TransitModel(bat_params, two_min_x, supersample_factor=7, exp_time=0.00138889) \n",
    "    flux = b_model.light_curve(bat_params)\n",
    "    \n",
    "    t_contam_ratio = 1 / (1 + row['tess_contam_ratio'])\n",
    "    #flux = flux*(row['kep_contam_ratio'])  \n",
    "    \n",
    "    #figuring out the transit duration in days (koi_duration is in hrs)\n",
    "    duration = row['koi_duration'] / 24\n",
    "  \n",
    "    np.random.seed(6)\n",
    "    noise = row['tot_noise']\n",
    "    flux_uncert = np.random.normal(0, np.sqrt(15)*noise*10**(-6), len(two_min_x))    \n",
    "    new_y = flux + flux_uncert\n",
    "    \n",
    "    t0_array = np.linspace(-1*(duration+0.15), duration+0.15, 5000)\n",
    "    t0_vs_chi2 = np.zeros(shape=(len(t0_array), 2))\n",
    "    \n",
    "    \n",
    "    for time in range(len(t0_array)):\n",
    "        a_axis_stellar_r = a_axis_au*214.93946938362 / radius_s\n",
    "        bat_params = batman.TransitParams()\n",
    "        bat_params.t0 = t0_array[time]\n",
    "        bat_params.per = Period\n",
    "        bat_params.rp = radius_p / 109.489447246618 / radius_s    #planet radius (in units of stellar radii) #converting from R_earth to R_star\n",
    "        bat_params.a = a_axis_stellar_r                           #semi-major axis (in units of stellar radii)\n",
    "        bat_params.inc = 90 #row['koi_incl']\n",
    "        bat_params.ecc = row['koi_eccen']\n",
    "        bat_params.w = 90    #row['koi_longp']                    #longitude of periastron (in degrees)\n",
    "        bat_params.u = [0.2075, 0.3785]\n",
    "        bat_params.limb_dark = \"quadratic\"\n",
    "        \n",
    "        b_model = batman.TransitModel(bat_params, two_min_x, supersample_factor=7, exp_time=0.00138889)#!0.02083\n",
    "        flux = b_model.light_curve(bat_params)\n",
    "\n",
    "        t_contam_ratio = 1 / (1 + row['tess_contam_ratio'])\n",
    "        flux = flux*t_contam_ratio    \n",
    "       \n",
    "        residuals = (flux - new_y)**2 \n",
    "        chi2 = residuals / (np.sqrt(15)*noise*10**(-6))**2  \n",
    "        \n",
    "        t0_vs_chi2[time, 0] = t0_array[time]\n",
    "        t0_vs_chi2[time, 1] = np.sum(chi2)\n",
    "        \n",
    "    \n",
    "    likelihood_array = np.zeros(shape=(len(t0_vs_chi2)))\n",
    "    transit_time = np.zeros(shape=(len(t0_vs_chi2)))\n",
    "    normalized_likelihood = np.zeros(shape=(len(t0_vs_chi2)))\n",
    "    \n",
    "    for k in range (len(t0_vs_chi2)):\n",
    "        #subtracting off the best value for chi2 so parabola has a min at zero and turning it into a likelihood\n",
    "        likelihood_array[k] = (np.exp(-0.5*(t0_vs_chi2[k][1] - (np.min(t0_vs_chi2, axis=0))[1])))\n",
    "        transit_time[k] = t0_vs_chi2[k][0]\n",
    "        \n",
    "    #finding the norm of the likelihoods \n",
    "    likelihood_array /= np.sum(likelihood_array)\n",
    "    \n",
    "    neg_val1 = 0.0\n",
    "    neg_val2 = 0.0\n",
    "    \n",
    "    final_likelihood = np.cumsum(likelihood_array)\n",
    "    first_dev = final_likelihood - 0.158 \n",
    "    second_dev = final_likelihood - 0.842\n",
    "\n",
    "    first_func = interp1d(transit_time, first_dev)   \n",
    "    second_func = interp1d(transit_time, second_dev)\n",
    "\n",
    "    for index1 in range(len(first_dev)):\n",
    "        if first_dev[index1] < 0:\n",
    "            neg_val1 = first_dev[index1]\n",
    "        else:\n",
    "            break\n",
    "\n",
    "    y1 = neg_val1\n",
    "    y2 = first_dev[index1]\n",
    "\n",
    "    x1 = transit_time[index1-1]\n",
    "    x2 = transit_time[index1]\n",
    "    \n",
    "    slope1 = (y1 - y2) / (x1 - x2)\n",
    "    t_16 = -1*((y1 - 0) / slope1) + x1 \n",
    "\n",
    "    for index2 in range(len(second_dev)):\n",
    "        if second_dev[index2] < 0:\n",
    "            neg_val2 = second_dev[index2]\n",
    "        else:\n",
    "            break\n",
    "    y84_1 = neg_val2\n",
    "    y84_2 = second_dev[index2]\n",
    "\n",
    "    x84_1 = transit_time[index2-1]\n",
    "    x84_2 = transit_time[index2]\n",
    "    slope2 = (y84_1 - y84_2) / (x84_1 - x84_2))\n",
    "    t_84 = -1*((y84_1 - 0) / slope2) + x84_1\n",
    "\n",
    "    std_dev_final = 0.5*(t_84 - t_16)\n",
    "    df_prob2.at[index, 'batman_transit_uncert'] = std_dev_final"
   ]
  },
  {
   "cell_type": "code",
   "execution_count": 14,
   "metadata": {},
   "outputs": [],
   "source": [
    "df_prob2.to_csv('HJ_df_new_mass_testing.csv')"
   ]
  },
  {
   "cell_type": "code",
   "execution_count": 18,
   "metadata": {},
   "outputs": [],
   "source": [
    "df_prob2 = pd.read_csv('HJ_df_new_mass_testing.csv')\n",
    "#finding the total uncertainty (tess and kepler combined)\n",
    "#finding the ratio of transit difference to uncertainty to see what is detectable and what is not\n",
    "for index, row in df_prob2.iterrows():\n",
    "    Transit_uncert_linear = row['Transit_uncert']              #in minutes\n",
    "    Transit_uncert_btman = row['batman_transit_uncert']*1440   #converting to minutes\n",
    "    transit_diff = row['Transit_difference']\n",
    "    \n",
    "    total_uncert_mins = np.sqrt(Transit_uncert_linear**2 + Transit_uncert_btman**2)\n",
    "    df_prob2.at[index, 'total_uncert_mins'] = total_uncert_mins\n",
    "    \n",
    "    ratio = transit_diff / total_uncert_mins\n",
    "    df_prob2.at[index, 'transit_diff/total_uncert'] = ratio"
   ]
  },
  {
   "cell_type": "code",
   "execution_count": 19,
   "metadata": {},
   "outputs": [
    {
     "name": "stdout",
     "output_type": "stream",
     "text": [
      "   Transit_difference  total_uncert_mins  transit_diff/total_uncert\n",
      "0          103.461077           0.301178                 343.520803\n",
      "1         3167.305619           1.576176                2009.487513\n",
      "2          601.942068           0.325602                1848.704738\n",
      "3       364468.815006           7.373692               49428.266474\n",
      "4         3582.697763           9.622507                 372.324759\n",
      "5        10201.760227          26.435849                 385.906276\n",
      "6          434.514912           0.438051                 991.928212\n"
     ]
    }
   ],
   "source": [
    "print(df_prob2[['Transit_difference', 'total_uncert_mins', 'transit_diff/total_uncert']])"
   ]
  },
  {
   "cell_type": "code",
   "execution_count": 20,
   "metadata": {},
   "outputs": [],
   "source": [
    "#finding critical Q values that would make orbital decay detectable at 3-sigma\n",
    "for index, row in df_prob2.iterrows():\n",
    "    Transit_diff = row['Transit_difference']\n",
    "    tot_uncert = row['total_uncert_mins']\n",
    "    crit_Q = Transit_diff*1e3 / (3*tot_uncert)\n",
    "    crit_Q = np.log10(crit_Q)\n",
    "    df_prob2.loc[index, 'crit_Q'] = crit_Q"
   ]
  },
  {
   "cell_type": "code",
   "execution_count": 21,
   "metadata": {},
   "outputs": [
    {
     "name": "stdout",
     "output_type": "stream",
     "text": [
      "  kepoi_name  koi_smass  tess_magnitude\n",
      "0  K00002.01      1.449           9.999\n",
      "1  K01075.01      1.230          12.360\n",
      "2  K00013.01      2.466           9.567\n",
      "3  K05220.01      2.079          11.326\n",
      "4  K05353.01      1.398          13.765\n",
      "5  K03156.01      0.897           7.667\n",
      "6  K07259.01      0.614          14.326\n"
     ]
    }
   ],
   "source": [
    "#discarding \"planets\" with radii greater than 30 earth radii\n",
    "df_prob2 = df_prob2[df_prob2['koi_prad'] <= 30]\n",
    "df_prob2 = df_prob2[df_prob2['kepoi_name'] != 'K03794.01']\n",
    "df_prob2 = df_prob2[df_prob2['kepoi_name'] != 'K07430.01']\n",
    "\n",
    "#the following are planets that will be good candidates for orbital decay detection since a ! value of >=5 is common\n",
    "possible_dect_decay_df = df_prob2[df_prob2['crit_Q'] >= 5]\n",
    "print(possible_dect_decay_df[['kepoi_name', 'koi_smass', 'tess_magnitude']])"
   ]
  },
  {
   "cell_type": "markdown",
   "metadata": {},
   "source": [
    "# Data Visualization"
   ]
  },
  {
   "cell_type": "code",
   "execution_count": 22,
   "metadata": {},
   "outputs": [],
   "source": [
    "plt.rcParams['axes.linewidth']=2\n",
    "plt.rcParams['xtick.major.width'] = 1\n",
    "plt.rcParams['ytick.major.width'] = 1\n",
    "plt.rcParams['xtick.minor.width'] = 1\n",
    "plt.rcParams['ytick.minor.width'] = 1\n",
    "plt.rc('xtick.major', size=6, pad=8)\n",
    "plt.rc('xtick.minor', size=4, pad=5)\n",
    "plt.rc('ytick.major', size=6, pad=8)\n",
    "plt.rc('ytick.minor', size=4, pad=5)"
   ]
  },
  {
   "cell_type": "code",
   "execution_count": null,
   "metadata": {},
   "outputs": [],
   "source": [
    "#making a histogram to show the spread in critical Q values\n",
    "plt.hist(df_prob2['crit_Q'].dropna(), np.arange(-6, 10, 1), edgecolor='k', facecolor='w')  #, (np.arange(1, 6000, 1)))\n",
    "plt.xlabel(r'$log_{10}(Q_{\\star, c})$', fontsize=14)\n",
    "plt.ylabel('Number of Systems', fontsize=14)\n",
    "plt.gcf().subplots_adjust(left=0.17, bottom=0.17, right=0.94, top=0.94, wspace=0.0, hspace=0.0)\n",
    "plt.savefig('Q_star_hist_assum_MJ.pdf', bbox_inches='tight')\n",
    "plt.show()"
   ]
  },
  {
   "cell_type": "code",
   "execution_count": 25,
   "metadata": {},
   "outputs": [
    {
     "data": {
      "image/png": "[encoded data removed]",
      "text/plain": [
       "<Figure size 432x288 with 1 Axes>"
      ]
     },
     "metadata": {
      "needs_background": "light"
     },
     "output_type": "display_data"
    }
   ],
   "source": [
    "#reading in the dataframe produced when we use the mass radius relationship to compute mass\n",
    "#for the change in period rather than assuming a 1 jup mass for all planets\n",
    "\n",
    "old_df = pd.read_csv('HJ_df_final_radiusmass_relation.csv')\n",
    "old_df = old_df[old_df['kepoi_name']  != 'K03794.01']\n",
    "old_df = old_df[old_df['kepoi_name']  != 'K07430.01']\n",
    "old_df = old_df[old_df['koi_prad'] <= 30]\n",
    "\n",
    "plt.hist(old_df['crit_Q'].dropna(), np.arange(-6, 10, 1), edgecolor='k', linewidth=2.0, facecolor='w') \n",
    "plt.xlabel(r'$\\log_{10}(Q_{\\star, c})$', fontsize=14)\n",
    "plt.ylabel('Number of Systems', fontsize=14)\n",
    "plt.gcf().subplots_adjust(left=0.17, bottom=0.17, right=0.94, top=0.94, wspace=0.0, hspace=0.0)\n",
    "plt.savefig('Q_star_hist_mass_radius_relation.png', bbox_inches='tight', transparent=True)\n",
    "plt.show()"
   ]
  },
  {
   "cell_type": "code",
   "execution_count": null,
   "metadata": {},
   "outputs": [],
   "source": [
    "#adding crit Q values from the 1 Jup mass assumption df to the old df(based on mass-radius relationship)\n",
    "#this is for the sole purpose of having one dataset with all the information for the paper for each system\n",
    "for index, row in old_df.iterrows():\n",
    "    name = row['kepoi_name']\n",
    "    #NOTE: tess uncert is the same as batman_transit_uncert but in minutes instead of days\n",
    "    old_df.at[index, 'TESS_Uncert'] = (row['batman_transit_uncert'])*1440\n",
    "    array = np.where(df_prob2['kepoi_name'] == name)\n",
    "    new_row = df_prob2.iloc[array[0][0]]\n",
    "    JupmassQ = new_row['crit_Q']\n",
    "    old_df.at[index, 'Jup_mass_Q'] = JupmassQ"
   ]
  },
  {
   "cell_type": "code",
   "execution_count": 28,
   "metadata": {},
   "outputs": [
    {
     "name": "stdout",
     "output_type": "stream",
     "text": [
      "    kepoi_name kepler_name  koi_period  koi_prad  koi_smass  Kepler_uncert  \\\n",
      "1    K00001.01  Kepler-1 b    2.470613     13.04       0.97           0.06   \n",
      "2    K00002.01  Kepler-2 b    2.204735     16.10       1.45           0.11   \n",
      "132  K00003.01  Kepler-3 b    4.887803      4.82       0.83           0.52   \n",
      "186  K00004.01         NaN    3.849372     12.94       1.48           3.31   \n",
      "256  K00007.01  Kepler-4 b    3.213669      4.13       1.10           1.86   \n",
      "\n",
      "     TESS_Uncert  crit_Q  \n",
      "1            NaN    4.03  \n",
      "2            NaN    5.06  \n",
      "132          NaN    0.79  \n",
      "186          NaN    3.76  \n",
      "256          NaN    1.63  \n"
     ]
    }
   ],
   "source": [
    "#making a HJ table for the paper and the machine readable table\n",
    "table_for_paper = old_df[['kepoi_name', 'kepler_name', 'koi_period', 'koi_prad', 'koi_smass', 'tess_magnitude', 'Transit_uncert', 'TESS_Uncert', 'crit_Q']] #',Jup_mass_Q']]\n",
    "table_for_paper.rename(columns={'Transit_uncert': 'Kepler_uncert'}, inplace=True)\n",
    "table_for_paper = table_for_paper.sort_values(by=['kepoi_name'])\n",
    "table_for_paper = table_for_paper.round({'koi_period':6, 'koi_smass': 2, 'tess_magnitude': 2, 'Kepler_uncert':2, 'TESS_Uncert':2, 'crit_Q':2, 'Jup_mass_Q':2})\n",
    "table_for_paper = table_for_paper.drop(['tess_magnitude'], axis=1)\n",
    "print(table_for_paper.head())\n",
    "table_for_paper.to_csv('HJ_final_table.csv', index = False, header=None)"
   ]
  },
  {
   "cell_type": "code",
   "execution_count": null,
   "metadata": {},
   "outputs": [],
   "source": [
    "df_prob2.to_csv('HJ_df_final_all_Mjup_new_mass.csv')"
   ]
  }
 ],
 "metadata": {
  "kernelspec": {
   "display_name": "Python 3",
   "language": "python",
   "name": "python3"
  },
  "language_info": {
   "codemirror_mode": {
    "name": "ipython",
    "version": 3
   },
   "file_extension": ".py",
   "mimetype": "text/x-python",
   "name": "python",
   "nbconvert_exporter": "python",
   "pygments_lexer": "ipython3",
   "version": "3.7.1"
  }
 },
 "nbformat": 4,
 "nbformat_minor": 2
}
